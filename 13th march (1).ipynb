{
 "cells": [
  {
   "cell_type": "markdown",
   "id": "f16960a0-13fa-48b5-b493-3e72945fa240",
   "metadata": {},
   "source": [
    "Q1. Explain the assumptions required to use ANOVA and provide examples of violations that could impact\n",
    "the validity of the results."
   ]
  },
  {
   "cell_type": "markdown",
   "id": "220d23e4-2f68-4874-987f-e3ddb66f953d",
   "metadata": {},
   "source": [
    "The assumptions are \n",
    "\n",
    "1. Normality of sampling distribution.\n",
    "i.e. the distribution of sample means are normally distributed.\n",
    "2.Absence of outliers.Outlying scores need to be removed from the datset.\n",
    "3.homogenity of variance.each one of the population should have equal variance.\n",
    "\n",
    "If the assumption of normality is violated, or outliers are present, then the one-way ANOVA may not be the most powerful test available, and this could mean the difference between detecting a true difference among the population means or not.\n",
    "As the variance used in ANOVA is the variance of the sample mean, it cannot be robust. One sizeable outlier may cause the sample mean to deviate from the true mean, and causes a substantial variation. Thus, the variance of the sample mean must not be considered robust.\n",
    "If the homogeneity of variance assumption is failed, the ANOVA would yield a lower p-value, thus, leading us to falsely reject a true null hypothesis. If the independent assumption is violated, then also there is higher chance of getting an inaccurate P-value.\n"
   ]
  },
  {
   "cell_type": "markdown",
   "id": "1aecada2-c39f-4e9d-b86b-11edc0dffc1b",
   "metadata": {},
   "source": [
    "Q2. What are the three types of ANOVA, and in what situations would each be used?"
   ]
  },
  {
   "cell_type": "markdown",
   "id": "9b6b079e-6b1a-487c-8d91-3d4ad80fdda9",
   "metadata": {},
   "source": [
    "There are 3 types of ANOVA:\n",
    "\n",
    "1.One-way anova:one factor with atleast 2 levels. It is used when the levels ara independent.\n",
    "2.Repeated measure anova: one factor with atleast 2 levels. It is used when the levels are dependent.\n",
    "and\n",
    "3. Factorial anova: two or mora factors each of which with atleast 2 levels,herethe levels can or cannot be dependent."
   ]
  },
  {
   "cell_type": "markdown",
   "id": "f7bfb500-9d1d-4a91-b790-9373c96d1251",
   "metadata": {},
   "source": [
    "Q3. What is the partitioning of variance in ANOVA, and why is it important to understand this concept?"
   ]
  },
  {
   "cell_type": "markdown",
   "id": "4451964d-b4a1-4375-8b02-a213e8a93914",
   "metadata": {},
   "source": [
    "partition variance in ANOVA, that is, we could divide the total variance in our data into the various sources of that variation. Here, some of the variance results from variation among replicates within each group, and the rest comes from variation among the groups. Partitioning variance is an incredibly important concept within statistics. \n",
    "\n",
    "For scientists, it is a useful way of looking at the world.A range of scenarios use it to determine if there is any difference between the means of different groups."
   ]
  },
  {
   "cell_type": "markdown",
   "id": "2c2bfc55-fd01-4ba2-a8fb-34fb1c51aca7",
   "metadata": {},
   "source": [
    "Q4. How would you calculate the total sum of squares (SST), explained sum of squares (SSE), and residual\n",
    "sum of squares (SSR) in a one-way ANOVA using Python?"
   ]
  },
  {
   "cell_type": "markdown",
   "id": "3e3e4bce-8b72-4bde-92ad-5b048b4c2cdb",
   "metadata": {},
   "source": [
    "We can get the total sum of square by adding sum of square between and sum of square within.\n",
    "the formula is sum(Y**2)-T**2/N, where Y is value of every sample, T**2 is summation of square of each levels, and N is the number of total samples.\n",
    "the sum of squares is a statistical technique used in regression analysis to determine the dispersion of data points. In a regression analysis, the goal is to determine how well a data series can be fitted to a function that might help to explain how the data series was generated. The sum of squares is used as a mathematical way to find the function that best fits (varies least) from the data.\n",
    "The RSS measures the amount of error remaining between the regression function and the data set after the model has been run. A smaller RSS figure represents a regression function that is well-fit to the data.\n",
    "The RSS, also known as the sum of squared residuals, essentially determines how well a regression model explains or represents the data in the model.\n",
    "the formula for SSR is : RSS = sum over i = 1 to n (yi - f(xi))2\n",
    "Where:\n",
    "yi = the ith value of the variable to be predicted\n",
    "f(xi) = predicted value of yi\n",
    "n = upper limit of summation"
   ]
  },
  {
   "cell_type": "markdown",
   "id": "2d08c7f0-d78d-4fc4-8097-be57289c25de",
   "metadata": {},
   "source": [
    "Q5. In a two-way ANOVA, how would you calculate the main effects and interaction effects using Python?"
   ]
  },
  {
   "cell_type": "code",
   "execution_count": 62,
   "id": "d0f99d85-04e6-40ef-9f7b-da68a0319562",
   "metadata": {},
   "outputs": [
    {
     "data": {
      "text/html": [
       "<div>\n",
       "<style scoped>\n",
       "    .dataframe tbody tr th:only-of-type {\n",
       "        vertical-align: middle;\n",
       "    }\n",
       "\n",
       "    .dataframe tbody tr th {\n",
       "        vertical-align: top;\n",
       "    }\n",
       "\n",
       "    .dataframe thead th {\n",
       "        text-align: right;\n",
       "    }\n",
       "</style>\n",
       "<table border=\"1\" class=\"dataframe\">\n",
       "  <thead>\n",
       "    <tr style=\"text-align: right;\">\n",
       "      <th></th>\n",
       "      <th>df</th>\n",
       "      <th>sum_sq</th>\n",
       "      <th>mean_sq</th>\n",
       "      <th>F</th>\n",
       "      <th>PR(&gt;F)</th>\n",
       "    </tr>\n",
       "  </thead>\n",
       "  <tbody>\n",
       "    <tr>\n",
       "      <th>C(experience)</th>\n",
       "      <td>1.0</td>\n",
       "      <td>8.533333</td>\n",
       "      <td>8.533333</td>\n",
       "      <td>16.0000</td>\n",
       "      <td>0.000527</td>\n",
       "    </tr>\n",
       "    <tr>\n",
       "      <th>C(program)</th>\n",
       "      <td>2.0</td>\n",
       "      <td>24.866667</td>\n",
       "      <td>12.433333</td>\n",
       "      <td>23.3125</td>\n",
       "      <td>0.000002</td>\n",
       "    </tr>\n",
       "    <tr>\n",
       "      <th>C(experience):C(program)</th>\n",
       "      <td>2.0</td>\n",
       "      <td>2.466667</td>\n",
       "      <td>1.233333</td>\n",
       "      <td>2.3125</td>\n",
       "      <td>0.120667</td>\n",
       "    </tr>\n",
       "    <tr>\n",
       "      <th>Residual</th>\n",
       "      <td>24.0</td>\n",
       "      <td>12.800000</td>\n",
       "      <td>0.533333</td>\n",
       "      <td>NaN</td>\n",
       "      <td>NaN</td>\n",
       "    </tr>\n",
       "  </tbody>\n",
       "</table>\n",
       "</div>"
      ],
      "text/plain": [
       "                            df     sum_sq    mean_sq        F    PR(>F)\n",
       "C(experience)              1.0   8.533333   8.533333  16.0000  0.000527\n",
       "C(program)                 2.0  24.866667  12.433333  23.3125  0.000002\n",
       "C(experience):C(program)   2.0   2.466667   1.233333   2.3125  0.120667\n",
       "Residual                  24.0  12.800000   0.533333      NaN       NaN"
      ]
     },
     "execution_count": 62,
     "metadata": {},
     "output_type": "execute_result"
    }
   ],
   "source": [
    "#by the below example we can give the procedure how to calculate the main effect and interaction in a two way anova using python.\n",
    "import pandas as pd\n",
    "import numpy as np\n",
    "import statsmodels.api as sm\n",
    "from statsmodels.formula.api import ols\n",
    "df = pd.DataFrame({'experience': np.repeat(['novice', 'experienced'], 15),\n",
    "                   'program': np.tile(np.repeat(['A', 'B', 'C'], 5), 2),\n",
    "                   'time': [6, 6, 6, 5, 6, 5, 5, 6, 4, 5,\n",
    "                              6, 6, 7, 8, 7, 3, 4, 4, 4, 5,\n",
    "                              4, 4, 4, 4, 4, 5, 6, 6, 7, 8]})\n",
    "model = ols('time ~ C(experience) + C(program) + C(experience):C(program)', data=df).fit()\n",
    "sm.stats.anova_lm(model, type=2)"
   ]
  },
  {
   "cell_type": "markdown",
   "id": "7a632965-7cf1-492c-bf6e-85c00dac0b3b",
   "metadata": {},
   "source": [
    "Q6. Suppose you conducted a one-way ANOVA and obtained an F-statistic of 5.23 and a p-value of 0.02.\n",
    "What can you conclude about the differences between the groups, and how would you interpret these\n",
    "results?"
   ]
  },
  {
   "cell_type": "markdown",
   "id": "cd97b15d-52ac-448d-a956-f1f650a81935",
   "metadata": {},
   "source": [
    "F-statistic = 5.23\n",
    "p_value = .02\n",
    "as f-statistic value is greaater than p-value, i.e. we will be rejecting the null hypothesis i.e. there will be at leaste one variance which will be unequal"
   ]
  },
  {
   "cell_type": "markdown",
   "id": "6d3928ac-b5ce-4172-824d-0c773f00ec55",
   "metadata": {},
   "source": [
    "Q7. In a repeated measures ANOVA, how would you handle missing data, and what are the potential\n",
    "consequences of using different methods to handle missing data?"
   ]
  },
  {
   "cell_type": "markdown",
   "id": "1e231f2d-8aa9-4fc9-be9a-b638ca578fdc",
   "metadata": {},
   "source": [
    "The three main options to handle missing data are:\n",
    "Missing Completely at Random (MCAR) - i.e. there are no possible predictors of missingness. In this case, we could validly drop those individuals with missing data and work with the complete observations only (this is called a complete case analysis). However, this is generally an unrealistic assumption in my experience. If we do a complete case analysis and the MCAR assumption does not hold, then any conclusions we want to draw from our results will only be valid for that specific set of people who have complete data. It is invalid to make inference about the whole population (or even whole sample) if MCAR does not hold, when using complete case analysis.\n",
    "\n",
    "Missing at Random (MAR) - in this case, we know why some individuals have missing data and others do not (there are some variables which predict missingness) but within strata of those variables the data is truly randomly missing. In this case, we can use multiple imputation or other methods such as inverse probability weighting for non-missingness (IPW). Under MAR, these methods allow us to make inference about the entire sample, and therefore about the population from which your samples arose. we are right that you have a lot of data to impute, which may cause a problem.\n",
    "\n",
    "Not Missing at Random (NMAR) - there is a definite pattern to which data is missing and there are no variables which can be used to create strata within which the data is missing at random."
   ]
  },
  {
   "cell_type": "markdown",
   "id": "831fd460-1866-4cc0-bb68-cfa4f61e83c3",
   "metadata": {},
   "source": [
    "Q9. A researcher wants to compare the mean weight loss of three diets: A, B, and C. They collect data from\n",
    "50 participants who were randomly assigned to one of the diets. Conduct a one-way ANOVA using Python\n",
    "to determine if there are any significant differences between the mean weight loss of the three diets.\n",
    "Report the F-statistic and p-value, and interpret the results."
   ]
  },
  {
   "cell_type": "code",
   "execution_count": 63,
   "id": "10102a9c-81dc-4b20-b75c-a0c96ffa2e36",
   "metadata": {},
   "outputs": [
    {
     "data": {
      "text/plain": [
       "F_onewayResult(statistic=0.024604366060866762, pvalue=0.9757084126578006)"
      ]
     },
     "execution_count": 63,
     "metadata": {},
     "output_type": "execute_result"
    }
   ],
   "source": [
    "from scipy.stats import f_oneway\n",
    "A = [8,7,4,5,9,8,6,3,2,5,1,4,8,7,5,2]\n",
    "B = [3, 2, 4, 9, 8,4,7,8,5,6,9,8,5,4,1,2]\n",
    "C = [9, 8, 9, 3, 9,4,5,8,6,9,3,2,5,4,7,1,2,4]\n",
    "f_oneway(A, B, C)"
   ]
  },
  {
   "cell_type": "code",
   "execution_count": 64,
   "id": "a0c117b6-7a90-4b9e-8b69-1cd0581a1edb",
   "metadata": {},
   "outputs": [],
   "source": [
    "#As f statistic is not greater than p value, i.e. we will fail to reject the null hypotheis, i.e. there is same  weight in each group."
   ]
  },
  {
   "cell_type": "markdown",
   "id": "3f8c1ac5-dc53-45f9-b8b5-13091a556e53",
   "metadata": {},
   "source": [
    "Q10. A company wants to know if there are any significant differences in the average time it takes to\n",
    "complete a task using three different software programs: Program A, Program B, and Program C. They\n",
    "randomly assign 30 employees to one of the programs and record the time it takes each employee to\n",
    "complete the task. Conduct a two-way ANOVA using Python to determine if there are any main effects or\n",
    "interaction effects between the software programs and employee experience level (novice vs.\n",
    "experienced). Report the F-statistics and p-values, and interpret the results."
   ]
  },
  {
   "cell_type": "code",
   "execution_count": 1,
   "id": "cf6ae03c-bb8a-4d48-a0aa-ba90386de873",
   "metadata": {},
   "outputs": [
    {
     "data": {
      "text/html": [
       "<div>\n",
       "<style scoped>\n",
       "    .dataframe tbody tr th:only-of-type {\n",
       "        vertical-align: middle;\n",
       "    }\n",
       "\n",
       "    .dataframe tbody tr th {\n",
       "        vertical-align: top;\n",
       "    }\n",
       "\n",
       "    .dataframe thead th {\n",
       "        text-align: right;\n",
       "    }\n",
       "</style>\n",
       "<table border=\"1\" class=\"dataframe\">\n",
       "  <thead>\n",
       "    <tr style=\"text-align: right;\">\n",
       "      <th></th>\n",
       "      <th>df</th>\n",
       "      <th>sum_sq</th>\n",
       "      <th>mean_sq</th>\n",
       "      <th>F</th>\n",
       "      <th>PR(&gt;F)</th>\n",
       "    </tr>\n",
       "  </thead>\n",
       "  <tbody>\n",
       "    <tr>\n",
       "      <th>C(experience)</th>\n",
       "      <td>1.0</td>\n",
       "      <td>8.533333</td>\n",
       "      <td>8.533333</td>\n",
       "      <td>16.0000</td>\n",
       "      <td>0.000527</td>\n",
       "    </tr>\n",
       "    <tr>\n",
       "      <th>C(program)</th>\n",
       "      <td>2.0</td>\n",
       "      <td>24.866667</td>\n",
       "      <td>12.433333</td>\n",
       "      <td>23.3125</td>\n",
       "      <td>0.000002</td>\n",
       "    </tr>\n",
       "    <tr>\n",
       "      <th>C(experience):C(program)</th>\n",
       "      <td>2.0</td>\n",
       "      <td>2.466667</td>\n",
       "      <td>1.233333</td>\n",
       "      <td>2.3125</td>\n",
       "      <td>0.120667</td>\n",
       "    </tr>\n",
       "    <tr>\n",
       "      <th>Residual</th>\n",
       "      <td>24.0</td>\n",
       "      <td>12.800000</td>\n",
       "      <td>0.533333</td>\n",
       "      <td>NaN</td>\n",
       "      <td>NaN</td>\n",
       "    </tr>\n",
       "  </tbody>\n",
       "</table>\n",
       "</div>"
      ],
      "text/plain": [
       "                            df     sum_sq    mean_sq        F    PR(>F)\n",
       "C(experience)              1.0   8.533333   8.533333  16.0000  0.000527\n",
       "C(program)                 2.0  24.866667  12.433333  23.3125  0.000002\n",
       "C(experience):C(program)   2.0   2.466667   1.233333   2.3125  0.120667\n",
       "Residual                  24.0  12.800000   0.533333      NaN       NaN"
      ]
     },
     "execution_count": 1,
     "metadata": {},
     "output_type": "execute_result"
    }
   ],
   "source": [
    "\n",
    "import pandas as pd\n",
    "import numpy as np\n",
    "import statsmodels.api as sm\n",
    "from statsmodels.formula.api import ols\n",
    "df = pd.DataFrame({'experience': np.repeat(['novice', 'experienced'], 15),\n",
    "                   'program': np.tile(np.repeat(['A', 'B', 'C'], 5), 2),\n",
    "                   'time': [6, 6, 6, 5, 6, 5, 5, 6, 4, 5,\n",
    "                              6, 6, 7, 8, 7, 3, 4, 4, 4, 5,\n",
    "                              4, 4, 4, 4, 4, 5, 6, 6, 7, 8]})\n",
    "model = ols('time ~ C(experience) + C(program) + C(experience):C(program)', data=df).fit()\n",
    "sm.stats.anova_lm(model, type=2)"
   ]
  },
  {
   "cell_type": "markdown",
   "id": "fcda5c50-4e1f-49c1-a2d2-58a9d29a18d5",
   "metadata": {},
   "source": [
    "experienced: p-value = .000527\n",
    "program: p-value = .0000002\n",
    "experienced*program: p-value = .120667"
   ]
  },
  {
   "cell_type": "markdown",
   "id": "8bcb1a99-6d9a-431b-92ca-581f9d135848",
   "metadata": {},
   "source": [
    "Since the p-values for experience and program are both less than .05, this means that both factors have a statistically significant effect on time.\n",
    "\n",
    "And since the p-value for the interaction effect (.120667) is not less than .05, this tells us that there is no significant interaction effect between program and experience."
   ]
  },
  {
   "cell_type": "markdown",
   "id": "62a91c20-8aec-4874-a24f-edf6e840cfdd",
   "metadata": {},
   "source": [
    "Q11. An educational researcher is interested in whether a new teaching method improves student test\n",
    "scores. They randomly assign 100 students to either the control group (traditional teaching method) or the\n",
    "experimental group (new teaching method) and administer a test at the end of the semester. Conduct a\n",
    "two-sample t-test using Python to determine if there are any significant differences in test scores\n",
    "between the two groups. If the results are significant, follow up with a post-hoc test to determine which\n",
    "group(s) differ significantly from each other."
   ]
  },
  {
   "cell_type": "code",
   "execution_count": 66,
   "id": "8ce36168-7636-4893-a31e-dc1630e9c6fd",
   "metadata": {},
   "outputs": [
    {
     "name": "stdout",
     "output_type": "stream",
     "text": [
      "475.06440000000003 593.3364\n"
     ]
    },
    {
     "data": {
      "text/plain": [
       "Ttest_indResult(statistic=-0.3426501453665429, pvalue=0.7325955227430436)"
      ]
     },
     "execution_count": 66,
     "metadata": {},
     "output_type": "execute_result"
    }
   ],
   "source": [
    "import numpy as np\n",
    "import scipy.stats as stats\n",
    "control_group = np.array([77,45,78,96,75,48,63,40,15,75,85,95,88,69,45,87,36,52,85,98,75,84,63,56,54,84,32,89,69,47,25,48,36,87,95,84,62,59,58,47,69,26,45,85,96,87,36,54,85,78])\n",
    "experimental_group = np.array([78,96,75,48,63,40,15,75,85,95,88,69,45,87,36,78,58,75,48,99,47,85,47,96,84,87,85,83,96,95,98,97,94,92,95,96,36,35,35,34,32,37,38,39,41,44,75,48,46,77])\n",
    "print(np.var(control_group), np.var(experimental_group))\n",
    "stats.ttest_ind(a=control_group, b=experimental_group, equal_var=True)"
   ]
  },
  {
   "cell_type": "markdown",
   "id": "b6389f06-0f38-4a6c-b739-1adffed93ffc",
   "metadata": {},
   "source": [
    "The two hypotheses for this particular two sample t-test are as follows:\n",
    "H0: µ1 = µ2\n",
    "HA: µ1 ≠µ2\n",
    "Because the p-value of our test (0.7325955227430436) is greater than alpha = 0.05, we fail to reject the null hypothesis of the test."
   ]
  },
  {
   "cell_type": "markdown",
   "id": "634a3cdc-8cba-413c-9373-6710722e6f6f",
   "metadata": {},
   "source": [
    "Q12. A researcher wants to know if there are any significant differences in the average daily sales of three\n",
    "retail stores: Store A, Store B, and Store C. They randomly select 30 days and record the sales for each store\n",
    "on those days. Conduct a repeated measures ANOVA using Python to determine if there are any\n",
    "\n",
    "significant differences in sales between the three stores. If the results are significant, follow up with a post-\n",
    "hoc test to determine which store(s) differ significantly from each other."
   ]
  },
  {
   "cell_type": "code",
   "execution_count": 67,
   "id": "cfc73352-4324-471f-b0e6-ed102a5c1591",
   "metadata": {},
   "outputs": [
    {
     "name": "stdout",
     "output_type": "stream",
     "text": [
      "              Anova\n",
      "=================================\n",
      "    F Value Num DF  Den DF Pr > F\n",
      "---------------------------------\n",
      "day  0.8030 9.0000 18.0000 0.6191\n",
      "=================================\n",
      "\n"
     ]
    }
   ],
   "source": [
    "import numpy as np\n",
    "import pandas as pd\n",
    "df = pd.DataFrame({'store': np.repeat(['A', 'B','C'], 10),\n",
    "                   'day': np.tile([1,2,3,4,5,6,7,8,9,10], 3),\n",
    "                   'sales': [30, 28, 16, 34,\n",
    "                                14, 18, 10, 22,\n",
    "                                24, 20, 18, 30,\n",
    "                                38, 34, 20, 44, \n",
    "                                26, 28, 14, 30,\n",
    "                                45, 85, 96, 34,\n",
    "                                78 ,85, 96, 78,45,96]})\n",
    "\n",
    "from statsmodels.stats.anova import AnovaRM\n",
    "print(AnovaRM(data=df, depvar='sales', subject='store', within=['day']).fit())\n"
   ]
  },
  {
   "cell_type": "markdown",
   "id": "1ed1cc5e-e314-40b2-8dc8-5225e1d89617",
   "metadata": {},
   "source": [
    "In this example, the F test-statistic is 0.8030 and the corresponding p-value is 0.6191.\n",
    "Since this p-value is less than 0.05, we reject the null hypothesis and conclude that there is a statistically significant difference between three stores..\n"
   ]
  },
  {
   "cell_type": "code",
   "execution_count": null,
   "id": "4dc863aa-4137-4b0e-94a0-815217dc16fe",
   "metadata": {},
   "outputs": [],
   "source": []
  },
  {
   "cell_type": "code",
   "execution_count": null,
   "id": "de2fbb3d-ac5d-443f-8692-90e3d143f7bd",
   "metadata": {},
   "outputs": [],
   "source": []
  },
  {
   "cell_type": "code",
   "execution_count": null,
   "id": "654164d1-a198-4fea-b9bd-07e6c600dcd2",
   "metadata": {},
   "outputs": [],
   "source": []
  },
  {
   "cell_type": "code",
   "execution_count": null,
   "id": "72045fd5-ef7d-4da6-8459-fedc239558ad",
   "metadata": {},
   "outputs": [],
   "source": []
  }
 ],
 "metadata": {
  "kernelspec": {
   "display_name": "Python 3 (ipykernel)",
   "language": "python",
   "name": "python3"
  },
  "language_info": {
   "codemirror_mode": {
    "name": "ipython",
    "version": 3
   },
   "file_extension": ".py",
   "mimetype": "text/x-python",
   "name": "python",
   "nbconvert_exporter": "python",
   "pygments_lexer": "ipython3",
   "version": "3.10.8"
  }
 },
 "nbformat": 4,
 "nbformat_minor": 5
}
